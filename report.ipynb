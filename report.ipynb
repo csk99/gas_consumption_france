{
 "cells": [
  {
   "cell_type": "markdown",
   "metadata": {},
   "source": [
    "# Spark Project\n"
   ]
  },
  {
   "cell_type": "markdown",
   "metadata": {},
   "source": [
    "<center>\n",
    "Gas Consumption in France\n",
    "2023-2024\n",
    "</center>"
   ]
  },
  {
   "cell_type": "markdown",
   "metadata": {},
   "source": [
    "ENSAI \\\n",
    "Master Smart Data\n",
    "\n",
    "---\n",
    "* YEBOUET CEDRICK-ARMEL\n",
    "* KANA Serge Cliver\n",
    "--- "
   ]
  },
  {
   "cell_type": "code",
   "execution_count": 1,
   "metadata": {},
   "outputs": [],
   "source": [
    "import pyspark\n",
    "import yaml\n",
    "import glob\n",
    "import seaborn as sns\n",
    "import pandas as pd\n",
    "import matplotlib.pyplot as plt\n",
    "import calendar\n",
    "import pyspark.sql.functions as F\n",
    "from pyspark.conf import SparkConf\n",
    "from pyspark.sql.functions import year,month,weekofyear,dayofyear\n",
    "from pyspark.sql.window import Window\n",
    "from pyspark.sql.types import IntegerType,FloatType\n",
    "from pyspark.ml.feature import StringIndexer,OneHotEncoder, Imputer\n",
    "from pyspark.ml.feature import VectorAssembler\n",
    "from pyspark.ml.evaluation import RegressionEvaluator\n",
    "from pyspark.ml.pipeline import Pipeline\n",
    "from pyspark.ml.tuning import CrossValidator\n",
    "from pyspark.ml.tuning import ParamGridBuilder\n",
    "\n",
    "from pyspark.ml.regression import LinearRegression, RandomForestRegressor\n",
    "from typing import Dict, List, Union\n",
    "\n"
   ]
  },
  {
   "cell_type": "markdown",
   "metadata": {},
   "source": [
    "Read some configurations from the yaml file"
   ]
  },
  {
   "cell_type": "code",
   "execution_count": 2,
   "metadata": {},
   "outputs": [],
   "source": [
    "with open('config.yaml') as f:\n",
    "    configuration = yaml.safe_load(f)\n"
   ]
  },
  {
   "cell_type": "code",
   "execution_count": 3,
   "metadata": {},
   "outputs": [
    {
     "data": {
      "text/plain": [
       "[{'delimiter': '|'},\n",
       " {'schema': 'id_pdv int,cp int,pop string,latitude double,longitude  double,services string'}]"
      ]
     },
     "execution_count": 3,
     "metadata": {},
     "output_type": "execute_result"
    }
   ],
   "source": [
    "configuration['service_file_parameters']"
   ]
  },
  {
   "cell_type": "markdown",
   "metadata": {},
   "source": [
    "## 1. Create a Spark Session"
   ]
  },
  {
   "cell_type": "code",
   "execution_count": 4,
   "metadata": {},
   "outputs": [],
   "source": [
    "conf = SparkConf().setAppName(\"Gas prediction\")\\\n",
    "                  .set(\"spark.executor.memory\", \"6g\")\\\n",
    "                  .set(\"spark.driver.memory\", \"6g\")"
   ]
  },
  {
   "cell_type": "code",
   "execution_count": 5,
   "metadata": {},
   "outputs": [
    {
     "name": "stderr",
     "output_type": "stream",
     "text": [
      "24/01/21 19:26:53 WARN Utils: Your hostname, ensai-Precision-3530 resolves to a loopback address: 127.0.1.1; using 192.168.171.30 instead (on interface wlo1)\n",
      "24/01/21 19:26:53 WARN Utils: Set SPARK_LOCAL_IP if you need to bind to another address\n",
      "Setting default log level to \"WARN\".\n",
      "To adjust logging level use sc.setLogLevel(newLevel). For SparkR, use setLogLevel(newLevel).\n",
      "24/01/21 19:26:54 WARN NativeCodeLoader: Unable to load native-hadoop library for your platform... using builtin-java classes where applicable\n",
      "24/01/21 19:26:54 WARN Utils: Service 'SparkUI' could not bind on port 4040. Attempting port 4041.\n",
      "24/01/21 19:26:54 WARN Utils: Service 'SparkUI' could not bind on port 4041. Attempting port 4042.\n"
     ]
    }
   ],
   "source": [
    "spark  = pyspark.sql.SparkSession.builder.config(conf=conf).getOrCreate()"
   ]
  },
  {
   "cell_type": "code",
   "execution_count": 6,
   "metadata": {},
   "outputs": [
    {
     "data": {
      "text/html": [
       "\n",
       "            <div>\n",
       "                <p><b>SparkSession - in-memory</b></p>\n",
       "                \n",
       "        <div>\n",
       "            <p><b>SparkContext</b></p>\n",
       "\n",
       "            <p><a href=\"http://192.168.171.30:4042\">Spark UI</a></p>\n",
       "\n",
       "            <dl>\n",
       "              <dt>Version</dt>\n",
       "                <dd><code>v3.5.0</code></dd>\n",
       "              <dt>Master</dt>\n",
       "                <dd><code>local[*]</code></dd>\n",
       "              <dt>AppName</dt>\n",
       "                <dd><code>Gas prediction</code></dd>\n",
       "            </dl>\n",
       "        </div>\n",
       "        \n",
       "            </div>\n",
       "        "
      ],
      "text/plain": [
       "<pyspark.sql.session.SparkSession at 0x7f23024bdf70>"
      ]
     },
     "execution_count": 6,
     "metadata": {},
     "output_type": "execute_result"
    }
   ],
   "source": [
    "spark"
   ]
  },
  {
   "cell_type": "markdown",
   "metadata": {},
   "source": [
    "2) Data preparation"
   ]
  },
  {
   "cell_type": "markdown",
   "metadata": {},
   "source": [
    "2-1)  Read the data from the csv files"
   ]
  },
  {
   "cell_type": "markdown",
   "metadata": {},
   "source": [
    "Prepare the schema for the different datasets using the yaml configuration file"
   ]
  },
  {
   "cell_type": "code",
   "execution_count": 7,
   "metadata": {},
   "outputs": [],
   "source": [
    "#get the right file delimiter for each  csv data  file from the configuration file\n",
    "gas_delimiter = configuration['gas_file_parameters'][0]['delimiter']\n",
    "station_delimiter = configuration['station_file_parameters'][0]['delimiter']\n",
    "service_delimiter = configuration['service_file_parameters'][0]['delimiter']\n",
    "\n",
    "#get the right schema for each csv data  file  from the configuration file\n",
    "gas_schema = configuration['gas_file_parameters'][1]['schema']\n",
    "station_schema = configuration['station_file_parameters'][1]['schema']\n",
    "service_schema = configuration['service_file_parameters'][1]['schema']\n",
    "\n",
    "#collect the file data paths for each csv data  file  from the configuration file\n",
    "gas_files = glob.glob(\"data/Prix*.csv\")\n",
    "station_files = glob.glob(\"data/Station*.csv\")\n",
    "service_files = glob.glob(\"data/Service*.csv\")\n",
    "\n"
   ]
  },
  {
   "cell_type": "code",
   "execution_count": 8,
   "metadata": {},
   "outputs": [],
   "source": [
    "gas_ddf = spark.read.csv(gas_files, schema=gas_schema, sep=gas_delimiter)\n",
    "station_ddf = spark.read.csv(station_files, schema=station_schema, sep=station_delimiter)\n",
    "service_ddf = spark.read.csv(service_files, schema=service_schema, sep=service_delimiter)"
   ]
  },
  {
   "cell_type": "markdown",
   "metadata": {},
   "source": [
    "Explore the gas dataframe"
   ]
  },
  {
   "cell_type": "code",
   "execution_count": 9,
   "metadata": {},
   "outputs": [
    {
     "name": "stderr",
     "output_type": "stream",
     "text": [
      "24/01/21 19:26:57 WARN SparkStringUtils: Truncated the string representation of a plan since it was too large. This behavior can be adjusted by setting 'spark.sql.debug.maxToStringFields'.\n",
      "                                                                                \r"
     ]
    },
    {
     "name": "stdout",
     "output_type": "stream",
     "text": [
      "+-------+--------------------+------------------+--------+------------------+-----------------+------------------+-------------+-----------------+\n",
      "|summary|              id_pdv|                cp|     pop|          latitude|        longitude|      id_carburant|nom_carburant|             prix|\n",
      "+-------+--------------------+------------------+--------+------------------+-----------------+------------------+-------------+-----------------+\n",
      "|  count|            21988267|          21988267|21988267|          21987926|         21987931|          21969524|     21969524|         21969524|\n",
      "|   mean| 5.198771833581928E7|51968.128585122235|    NULL| 4689005.285690996|264577.3844697589| 3.622319445792271|         NULL|789.7721020743362|\n",
      "| stddev|2.6951331394675057E7|26949.628368838552|    NULL|226446.52624381997|271210.5586687026|2.0553213788233116|         NULL|720.6611761139424|\n",
      "|    min|             1000001|              1000|       A|  -2094971.3596753|        -472300.0|                 1|          E10|            0.001|\n",
      "|    max|            96600001|             97429|       R|     6260655.98007|  5529526.0602666|                 6|         SP98|           9659.0|\n",
      "+-------+--------------------+------------------+--------+------------------+-----------------+------------------+-------------+-----------------+\n",
      "\n"
     ]
    }
   ],
   "source": [
    "gas_ddf.describe().show()"
   ]
  },
  {
   "cell_type": "code",
   "execution_count": 10,
   "metadata": {},
   "outputs": [
    {
     "name": "stderr",
     "output_type": "stream",
     "text": [
      "                                                                                \r"
     ]
    },
    {
     "data": {
      "text/plain": [
       "21988267"
      ]
     },
     "execution_count": 10,
     "metadata": {},
     "output_type": "execute_result"
    }
   ],
   "source": [
    "#number of observations\n",
    "gas_ddf.count()"
   ]
  },
  {
   "cell_type": "markdown",
   "metadata": {},
   "source": [
    "Remove missing observations"
   ]
  },
  {
   "cell_type": "code",
   "execution_count": 11,
   "metadata": {},
   "outputs": [
    {
     "name": "stderr",
     "output_type": "stream",
     "text": [
      "[Stage 9:===========================================>              (9 + 3) / 12]\r"
     ]
    },
    {
     "name": "stdout",
     "output_type": "stream",
     "text": [
      "The removal rate of null observations is 0.09%\n"
     ]
    },
    {
     "name": "stderr",
     "output_type": "stream",
     "text": [
      "                                                                                \r"
     ]
    }
   ],
   "source": [
    "c1 = gas_ddf.count()\n",
    "r = 100 * (c1 -  gas_ddf.dropna(how='any').count() ) / c1\n",
    "print(f\"The removal rate of null observations is {r:.2f}%\")\n"
   ]
  },
  {
   "cell_type": "markdown",
   "metadata": {},
   "source": [
    "Save the new data without null observations"
   ]
  },
  {
   "cell_type": "code",
   "execution_count": 12,
   "metadata": {},
   "outputs": [],
   "source": [
    "gas_ddf = gas_ddf.dropna(how='any')"
   ]
  },
  {
   "cell_type": "markdown",
   "metadata": {},
   "source": [
    "2.2 Preprocessing the Gas data </br>\n",
    "We will be doing the following :</br>\n",
    "* a) Sort date by date column\n",
    "* b) Split the date in year, month and weak of the year\n",
    "* c) Prepare latitude & longitude for mapping (divide by the right power of 10)\n",
    "* d) Fix price columns for certain files who are formatted differently 1000 instead of 1.0\n",
    "* e) Create a Table associated with gas data"
   ]
  },
  {
   "cell_type": "markdown",
   "metadata": {},
   "source": [
    "2.2.a) Convert date column from Timestamp to date and Sort the date by date column "
   ]
  },
  {
   "cell_type": "code",
   "execution_count": 13,
   "metadata": {},
   "outputs": [],
   "source": [
    "#change the date format from timestampt to date format\n",
    "gas_ddf = gas_ddf.withColumn('date',F.date_format(\"datetime\",\"yyy-MM-dd\"))\n",
    "#sort \n",
    "gas_ddf = gas_ddf.sort(\"date\",ascending = True)"
   ]
  },
  {
   "cell_type": "code",
   "execution_count": 14,
   "metadata": {},
   "outputs": [
    {
     "name": "stderr",
     "output_type": "stream",
     "text": [
      "[Stage 12:=======================>                                 (5 + 7) / 12]\r"
     ]
    },
    {
     "name": "stdout",
     "output_type": "stream",
     "text": [
      "+--------+-----+---+---------------+-------------+-------------------+------------+-------------+------+----------+\n",
      "|  id_pdv|   cp|pop|       latitude|    longitude|           datetime|id_carburant|nom_carburant|  prix|      date|\n",
      "+--------+-----+---+---------------+-------------+-------------------+------------+-------------+------+----------+\n",
      "|86000024|86000|  R|4660415.0216537|33167.5227298|2019-01-01 00:01:00|           1|       Gazole|1342.0|2019-01-01|\n",
      "|47310006|47310|  A|  4419918.44185|50903.9368657|2019-01-01 09:00:00|           1|       Gazole|1544.0|2019-01-01|\n",
      "| 1000013| 1000|  R|  4619851.83794|524350.637881|2019-01-01 00:01:00|           1|       Gazole|1347.0|2019-01-01|\n",
      "|47400004|47400|  R|      4440115.0|      29896.0|2019-01-01 00:01:00|           5|          E10|1344.0|2019-01-01|\n",
      "|86102001|86100|  R|      4679200.0|      52600.0|2019-01-01 10:14:59|           1|       Gazole|1352.0|2019-01-01|\n",
      "+--------+-----+---+---------------+-------------+-------------------+------------+-------------+------+----------+\n",
      "only showing top 5 rows\n",
      "\n"
     ]
    },
    {
     "name": "stderr",
     "output_type": "stream",
     "text": [
      "                                                                                \r"
     ]
    }
   ],
   "source": [
    "gas_ddf.show(5)"
   ]
  },
  {
   "cell_type": "markdown",
   "metadata": {},
   "source": [
    "2.2.b) Split the date in year, month and weak of the year"
   ]
  },
  {
   "cell_type": "code",
   "execution_count": 15,
   "metadata": {},
   "outputs": [
    {
     "name": "stderr",
     "output_type": "stream",
     "text": [
      "[Stage 13:===================>                                     (4 + 8) / 12]\r"
     ]
    },
    {
     "name": "stdout",
     "output_type": "stream",
     "text": [
      "+--------+-----+---+---------------+-------------+-------------------+------------+-------------+------+----------+----+-----+----------+\n",
      "|  id_pdv|   cp|pop|       latitude|    longitude|           datetime|id_carburant|nom_carburant|  prix|      date|year|month|weekofyear|\n",
      "+--------+-----+---+---------------+-------------+-------------------+------------+-------------+------+----------+----+-----+----------+\n",
      "|86000024|86000|  R|4660415.0216537|33167.5227298|2019-01-01 00:01:00|           1|       Gazole|1342.0|2019-01-01|2019|    1|         1|\n",
      "| 1000013| 1000|  R|  4619851.83794|524350.637881|2019-01-01 00:01:00|           1|       Gazole|1347.0|2019-01-01|2019|    1|         1|\n",
      "|47310006|47310|  A|  4419918.44185|50903.9368657|2019-01-01 09:00:00|           1|       Gazole|1544.0|2019-01-01|2019|    1|         1|\n",
      "| 1100007| 1100|  R|      4624966.0|     564134.0|2019-01-01 00:01:00|           4|         GPLc| 909.0|2019-01-01|2019|    1|         1|\n",
      "|86102001|86100|  R|      4679200.0|      52600.0|2019-01-01 10:14:59|           1|       Gazole|1352.0|2019-01-01|2019|    1|         1|\n",
      "+--------+-----+---+---------------+-------------+-------------------+------------+-------------+------+----------+----+-----+----------+\n",
      "only showing top 5 rows\n",
      "\n"
     ]
    },
    {
     "name": "stderr",
     "output_type": "stream",
     "text": [
      "                                                                                \r"
     ]
    }
   ],
   "source": [
    "gas_ddf = gas_ddf.withColumn(\"year\",year(gas_ddf.date))\n",
    "gas_ddf = gas_ddf.withColumn(\"month\",month(gas_ddf.date))\n",
    "gas_ddf = gas_ddf.withColumn(\"weekofyear\",weekofyear(gas_ddf.date))\n",
    "gas_ddf.show(5)"
   ]
  },
  {
   "cell_type": "markdown",
   "metadata": {},
   "source": [
    "2.2.c) Prepare latitude & longitude for mapping (divide by the right power of 10)"
   ]
  },
  {
   "cell_type": "markdown",
   "metadata": {},
   "source": [
    "We know that latitude value range is between [-90,90] and longitude value range is between [-180,180]\n",
    "Since the latitude and longitude original or raw values are respectively between[-2094971.3596,6260655.98]  and [-472300.0, 5529526.060]\n"
   ]
  },
  {
   "cell_type": "code",
   "execution_count": 16,
   "metadata": {},
   "outputs": [
    {
     "name": "stderr",
     "output_type": "stream",
     "text": [
      "[Stage 14:===================>                                     (4 + 8) / 12]\r"
     ]
    },
    {
     "name": "stdout",
     "output_type": "stream",
     "text": [
      "+--------+-----+---+-----------------+-------------------+-------------------+------------+-------------+------+----------+----+-----+----------+\n",
      "|  id_pdv|   cp|pop|         latitude|          longitude|           datetime|id_carburant|nom_carburant|  prix|      date|year|month|weekofyear|\n",
      "+--------+-----+---+-----------------+-------------------+-------------------+------------+-------------+------+----------+----+-----+----------+\n",
      "|86000024|86000|  R|46.60415021653699|0.33167522729800003|2019-01-01 00:01:00|           1|       Gazole|1342.0|2019-01-01|2019|    1|         1|\n",
      "| 1000013| 1000|  R|    46.1985183794|  5.243506378809999|2019-01-01 00:01:00|           1|       Gazole|1347.0|2019-01-01|2019|    1|         1|\n",
      "|47310006|47310|  A|    44.1991844185| 0.5090393686570001|2019-01-01 09:00:00|           1|       Gazole|1544.0|2019-01-01|2019|    1|         1|\n",
      "| 1100007| 1100|  R|         46.24966|            5.64134|2019-01-01 00:01:00|           4|         GPLc| 909.0|2019-01-01|2019|    1|         1|\n",
      "|86102001|86100|  R|           46.792|              0.526|2019-01-01 10:14:59|           1|       Gazole|1352.0|2019-01-01|2019|    1|         1|\n",
      "+--------+-----+---+-----------------+-------------------+-------------------+------------+-------------+------+----------+----+-----+----------+\n",
      "only showing top 5 rows\n",
      "\n"
     ]
    },
    {
     "name": "stderr",
     "output_type": "stream",
     "text": [
      "                                                                                \r"
     ]
    }
   ],
   "source": [
    "gas_ddf = gas_ddf.withColumn(\"latitude\",F.col(\"latitude\")/100_000)\n",
    "gas_ddf = gas_ddf.withColumn(\"longitude\",F.col(\"longitude\")/100_000)\n",
    "gas_ddf.show(5)"
   ]
  },
  {
   "cell_type": "markdown",
   "metadata": {},
   "source": [
    "2.2.d) Fix price columns for certain files who are formatted differently 1000 instead of 1.0"
   ]
  },
  {
   "cell_type": "code",
   "execution_count": 17,
   "metadata": {},
   "outputs": [],
   "source": [
    "gas_ddf = gas_ddf.withColumn(\"prix\",F.udf(lambda p,y:p / 1000 if y <= 2021 else p )(\"prix\",\"year\")).sort(\"year\",ascending=True)"
   ]
  },
  {
   "cell_type": "markdown",
   "metadata": {},
   "source": [
    "2.2.e) Create a Table associated with gas data"
   ]
  },
  {
   "cell_type": "code",
   "execution_count": 18,
   "metadata": {},
   "outputs": [
    {
     "name": "stderr",
     "output_type": "stream",
     "text": [
      "[Stage 15:===================================================>    (11 + 1) / 12]\r"
     ]
    },
    {
     "name": "stdout",
     "output_type": "stream",
     "text": [
      "+--------+-----+---+--------+---------+-------------------+------------+-------------+-----+----------+----+-----+----------+\n",
      "|  id_pdv|   cp|pop|latitude|longitude|           datetime|id_carburant|nom_carburant| prix|      date|year|month|weekofyear|\n",
      "+--------+-----+---+--------+---------+-------------------+------------+-------------+-----+----------+----+-----+----------+\n",
      "|85400005|85400|  R|46.46062| -1.13722|2019-08-24 08:55:42|           2|         SP95|1.433|2019-08-24|2019|    8|        34|\n",
      "|47190001|47190|  R|44.29654|  0.34412|2019-07-22 09:15:31|           1|       Gazole|1.396|2019-07-22|2019|    7|        30|\n",
      "| 1000001| 1000|  R|46.20114|  5.19791|2019-01-04 10:53:48|           1|       Gazole|1.328|2019-01-04|2019|    1|         1|\n",
      "|47190001|47190|  R|44.29654|  0.34412|2019-07-26 09:22:45|           1|       Gazole|1.406|2019-07-26|2019|    7|        30|\n",
      "|85400005|85400|  R|46.46062| -1.13722|2019-08-26 09:16:59|           2|         SP95|1.458|2019-08-26|2019|    8|        35|\n",
      "+--------+-----+---+--------+---------+-------------------+------------+-------------+-----+----------+----+-----+----------+\n",
      "only showing top 5 rows\n",
      "\n"
     ]
    },
    {
     "name": "stderr",
     "output_type": "stream",
     "text": [
      "                                                                                \r"
     ]
    }
   ],
   "source": [
    "gas_ddf.createOrReplaceTempView('gas')\n",
    "spark.sql(\"SELECT * FROM gas\").show(5)"
   ]
  },
  {
   "cell_type": "markdown",
   "metadata": {},
   "source": [
    "Which gas types have some interest for the rest of the project?"
   ]
  },
  {
   "cell_type": "code",
   "execution_count": 19,
   "metadata": {},
   "outputs": [
    {
     "name": "stderr",
     "output_type": "stream",
     "text": [
      "[Stage 17:==============================================>         (10 + 2) / 12]\r"
     ]
    },
    {
     "name": "stdout",
     "output_type": "stream",
     "text": [
      "+-------------+-------+--------+\n",
      "|nom_carburant|  count|ratio(%)|\n",
      "+-------------+-------+--------+\n",
      "|       Gazole|6671688|   30.37|\n",
      "|         SP98|5543363|   25.23|\n",
      "|          E10|5534734|   25.19|\n",
      "|         SP95|1641710|    7.47|\n",
      "|          E85|1620438|    7.38|\n",
      "|         GPLc| 957591|    4.36|\n",
      "+-------------+-------+--------+\n",
      "\n"
     ]
    },
    {
     "name": "stderr",
     "output_type": "stream",
     "text": [
      "                                                                                \r"
     ]
    }
   ],
   "source": [
    "spark.sql(\n",
    "    \"\"\"\n",
    "    SELECT nom_carburant,\n",
    "    count(*) as count,\n",
    "    round(100 * count(*) / (SELECT count(*) FROM gas),2) as `ratio(%)`\n",
    "    FROM gas \n",
    "    GROUP BY  nom_carburant\n",
    "    ORDER BY count DESC\n",
    "    \"\"\"\n",
    "    ).show()"
   ]
  },
  {
   "cell_type": "markdown",
   "metadata": {},
   "source": [
    "In our dataset, the representation of gas types, specifically **E85 and GPLc**, is notably lower. </br> Their individual ratio stands at approximately 5%, indicating a comparatively lower occurrence in our data.\n",
    "We will drop those gas types for next part of the project.\n"
   ]
  },
  {
   "cell_type": "code",
   "execution_count": 20,
   "metadata": {},
   "outputs": [
    {
     "name": "stderr",
     "output_type": "stream",
     "text": [
      "[Stage 22:===================================================>    (11 + 1) / 12]\r"
     ]
    },
    {
     "name": "stdout",
     "output_type": "stream",
     "text": [
      "+-------------+-----------+\n",
      "|nom_carburant|count(prix)|\n",
      "+-------------+-----------+\n",
      "|          E10|    5534734|\n",
      "|         SP98|    5543363|\n",
      "|          E85|    1620438|\n",
      "|       Gazole|    6671688|\n",
      "|         SP95|    1641710|\n",
      "|         GPLc|     957591|\n",
      "+-------------+-----------+\n",
      "\n"
     ]
    },
    {
     "name": "stderr",
     "output_type": "stream",
     "text": [
      "                                                                                \r"
     ]
    }
   ],
   "source": [
    "gas_ddf.groupby(\"nom_carburant\").agg(F.count(\"prix\")).show()"
   ]
  },
  {
   "cell_type": "markdown",
   "metadata": {},
   "source": [
    "Drop gas types **E85 and GPLc**"
   ]
  },
  {
   "cell_type": "code",
   "execution_count": 21,
   "metadata": {},
   "outputs": [],
   "source": [
    "gas_ddf = gas_ddf.filter((gas_ddf[\"nom_carburant\"] != \"GPLc\") & (gas_ddf[\"nom_carburant\"] != \"E85\"))"
   ]
  },
  {
   "cell_type": "code",
   "execution_count": 22,
   "metadata": {},
   "outputs": [
    {
     "name": "stderr",
     "output_type": "stream",
     "text": [
      "[Stage 25:===================================================>    (11 + 1) / 12]\r"
     ]
    },
    {
     "name": "stdout",
     "output_type": "stream",
     "text": [
      "+-------------+-----------+\n",
      "|nom_carburant|count(prix)|\n",
      "+-------------+-----------+\n",
      "|          E10|    5534734|\n",
      "|         SP98|    5543363|\n",
      "|       Gazole|    6671688|\n",
      "|         SP95|    1641710|\n",
      "+-------------+-----------+\n",
      "\n"
     ]
    },
    {
     "name": "stderr",
     "output_type": "stream",
     "text": [
      "                                                                                \r"
     ]
    }
   ],
   "source": [
    "gas_ddf.groupby(\"nom_carburant\").agg(F.count(\"prix\")).show()"
   ]
  },
  {
   "cell_type": "markdown",
   "metadata": {},
   "source": [
    "2.3 Compute price index for each station per week:</br>\n",
    "Compute a new variable called “Price Index” for each gas type sold in\n",
    "a station such as:</br>\n",
    "\n",
    "$𝑷𝒓𝒊𝒄𝒆 𝑰𝒏𝒅𝒆𝒙 = 𝟏𝟎𝟎 × (\\frac{𝑫𝒂𝒚 𝑷𝒓𝒊𝒄𝒆 𝒊𝒏 𝒔𝒕𝒂𝒕𝒊𝒐𝒏 − 𝑨𝒗𝒆𝒓𝒂𝒈𝒆 𝑫𝒂𝒚 𝑷𝒓𝒊𝒄𝒆 𝒊𝒏 𝑭𝒓𝒂𝒏𝒄𝒆}{𝑨𝒗𝒆𝒓𝒂𝒈𝒆 𝑫𝒂𝒚 𝑷𝒓𝒊𝒄𝒆 𝒊𝒏 𝑭𝒓𝒂𝒏𝒄𝒆} + 𝟏)$"
   ]
  },
  {
   "cell_type": "code",
   "execution_count": 23,
   "metadata": {},
   "outputs": [
    {
     "name": "stderr",
     "output_type": "stream",
     "text": [
      "24/01/21 19:32:09 WARN RowBasedKeyValueBatch: Calling spill() on RowBasedKeyValueBatch. Will not spill but return 0.\n",
      "[Stage 32:==============================================>           (4 + 1) / 5]\r"
     ]
    },
    {
     "name": "stdout",
     "output_type": "stream",
     "text": [
      "+-------------+----------+-------+----+---+--------+---------+-------------------+------------+-----+----+-----+----------+-----------------+-----------------+\n",
      "|nom_carburant|      date| id_pdv|  cp|pop|latitude|longitude|           datetime|id_carburant| prix|year|month|weekofyear|    avg_day_price|      price_index|\n",
      "+-------------+----------+-------+----+---+--------+---------+-------------------+------------+-----+----+-----+----------+-----------------+-----------------+\n",
      "|         SP95|2022-06-08|1000001|1000|  R|  46.201|    5.198|2022-06-08 08:33:59|           2|2.049|2022|    6|        23|2.141698481561829|95.67173052790191|\n",
      "|         SP95|2022-06-08|1000001|1000|  R|  46.201|    5.198|2022-06-08 08:34:21|           2|2.049|2022|    6|        23|2.141698481561829|95.67173052790191|\n",
      "|         SP95|2022-06-08|1000004|1000|  R|  46.188|    5.245|2022-06-08 06:45:01|           2| 2.12|2022|    6|        23|2.141698481561829| 98.9868563783075|\n",
      "|         SP95|2022-06-08|1000007|1000|  R|  46.221|    5.245|2022-06-08 09:24:07|           2|2.036|2022|    6|        23|2.141698481561829|95.06473565388399|\n",
      "|         SP95|2022-06-08|1100002|1100|  R|   46.25|    5.644|2022-06-08 13:59:08|           2|2.081|2022|    6|        23|2.141698481561829|97.16587175625372|\n",
      "+-------------+----------+-------+----+---+--------+---------+-------------------+------------+-----+----+-----+----------+-----------------+-----------------+\n",
      "only showing top 5 rows\n",
      "\n"
     ]
    },
    {
     "name": "stderr",
     "output_type": "stream",
     "text": [
      "                                                                                \r"
     ]
    }
   ],
   "source": [
    "average_price_gas_ddf = gas_ddf.groupBy([\"nom_carburant\",\"date\"]).agg(F.avg(\"prix\").alias(\"avg_day_price\"))\n",
    "\n",
    "gas_ddf = gas_ddf.join(average_price_gas_ddf,on=[\"nom_carburant\",\"date\"],how='inner')\n",
    "\n",
    "gas_ddf =gas_ddf.withColumn(\"price_index\",\n",
    "                            100 * \n",
    "                            (1 + (F.col(\"prix\") - F.col(\"avg_day_price\")) / F.col(\"avg_day_price\")))\n",
    "\n",
    "gas_ddf.show(5)\n"
   ]
  },
  {
   "cell_type": "markdown",
   "metadata": {},
   "source": [
    "2.4 Compute week index:\n",
    "* Compute a new variable called “Week Index” for each record\n",
    "counting the number of week since the first week in the file.\n",
    "* Example: if you loaded years 2019 to 2022, first week of 2019 should be\n",
    "numbered 1, last week of 2021 should be numbered 156 (3 x 52)"
   ]
  },
  {
   "cell_type": "code",
   "execution_count": 24,
   "metadata": {},
   "outputs": [],
   "source": [
    "\n",
    "def get_week_index_weights(configuration=configuration) -> Dict[int, int]:\n",
    "    \"\"\"\n",
    "    Generates a dictionary mapping week indexes to corresponding weights based on the configuration.\n",
    "\n",
    "    Args:\n",
    "    - configuration (dict): A dictionary containing configuration parameters:\n",
    "        - 'first_year_gas' (int): The starting year of data collection.\n",
    "        - 'last_year_gas' (int): The last year of data collection.\n",
    "\n",
    "    Returns:\n",
    "    - dict: A dictionary where year indexes are keys, and corresponding weights (multipliers) are values.\n",
    "    \"\"\"\n",
    "    # Get starting year of data collection from the yaml configuration file\n",
    "    start_year: int = int(configuration[\"first_year_gas\"])\n",
    "\n",
    "    # Get last year of data collection from the yaml configuration file\n",
    "    end_year: int = int(configuration[\"last_year_gas\"])\n",
    "\n",
    "    # Create a list of week indexes from the starting year to the last year\n",
    "    year_week_indexes: List[int] = list(range(start_year, end_year + 1))\n",
    "\n",
    "    # Create a list of week indexes multiplier or weights to be associated with corresponding years\n",
    "    # e.g., if 2015 is the first year, its multiplier will be 0\n",
    "    year_week_indexes_mulipliers: List[int] = list(range(end_year - start_year + 1))\n",
    "\n",
    "    # Combine the indexes and the multipliers or weights in a dictionary where the year is the key\n",
    "    return  dict(zip(year_week_indexes, year_week_indexes_mulipliers))\n",
    "\n",
    "    \n",
    "\n",
    "\n",
    "def compute_week_index(weekofyear: int, year: int):\n",
    "    \"\"\"\n",
    "    Computes the week index for a given week of year and year.\n",
    "\n",
    "    Args:\n",
    "    - weekofyear (int): The week of the year.\n",
    "    - year (int): The year.\n",
    "\n",
    "    Returns:\n",
    "    - int: The week index.\n",
    "\n",
    "    e.g\n",
    "    >>> compute_week_index(1, 2018)\n",
    "    It returns  1 + 3 * 52 (in this ex 2015 is the starting year)\n",
    "    \"\"\"\n",
    "    # Get the week index multiplier for the given year\n",
    "    week_index_multiplier =  get_week_index_weights()\n",
    "\n",
    "    # Compute the week index\n",
    "    week_index  = weekofyear + week_index_multiplier[year] * 52\n",
    "\n",
    "\n",
    "\n",
    "    return week_index"
   ]
  },
  {
   "cell_type": "code",
   "execution_count": 25,
   "metadata": {},
   "outputs": [],
   "source": [
    "gas_ddf = gas_ddf.withColumn(\"week_index\",F.udf(compute_week_index)(\"weekofyear\",\"year\").cast(IntegerType()))"
   ]
  },
  {
   "cell_type": "code",
   "execution_count": 26,
   "metadata": {},
   "outputs": [],
   "source": [
    "gas_ddf = gas_ddf.sort(\"date\",ascending = True)"
   ]
  },
  {
   "cell_type": "markdown",
   "metadata": {},
   "source": [
    "3. Data visualization"
   ]
  },
  {
   "cell_type": "markdown",
   "metadata": {},
   "source": [
    "\n",
    "3.a) Using matplotlib/seaborn or plotly:\n",
    "* Represent the weekly evolution of average gas price over France such\n",
    "as:\n",
    "* Each gas type is a line\n",
    "* X coordinates is the week index\n",
    "* Y coordinates is the average price for gas type in France over the\n",
    "week index"
   ]
  },
  {
   "cell_type": "code",
   "execution_count": 27,
   "metadata": {},
   "outputs": [
    {
     "name": "stderr",
     "output_type": "stream",
     "text": [
      "                                                                                \r"
     ]
    }
   ],
   "source": [
    "gas_ddf_pandas = gas_ddf.groupby([\"nom_carburant\",\"week_index\"])\\\n",
    "    .agg(F.avg(\"prix\")\\\n",
    "    .alias(\"price_per_week_index\"))\\\n",
    "    .sort(\"week_index\",ascending = True)\\\n",
    "    .toPandas()"
   ]
  },
  {
   "cell_type": "code",
   "execution_count": 28,
   "metadata": {},
   "outputs": [
    {
     "name": "stderr",
     "output_type": "stream",
     "text": [
      "24/01/21 19:34:56 WARN RowBasedKeyValueBatch: Calling spill() on RowBasedKeyValueBatch. Will not spill but return 0.\n",
      "[Stage 71:======================================>                  (8 + 4) / 12]\r"
     ]
    },
    {
     "name": "stdout",
     "output_type": "stream",
     "text": [
      "+-------------+----------+--------+-----+---+-------------+-------------------+-------------------+------------+-----+----+-----+----------+-----------------+-----------------+----------+\n",
      "|nom_carburant|      date|  id_pdv|   cp|pop|     latitude|          longitude|           datetime|id_carburant| prix|year|month|weekofyear|    avg_day_price|      price_index|week_index|\n",
      "+-------------+----------+--------+-----+---+-------------+-------------------+-------------------+------------+-----+----+-----+----------+-----------------+-----------------+----------+\n",
      "|         SP95|2019-01-01|86700004|86700|  R|46.3356584205|0.18620323995399998|2019-01-01 09:19:44|           2|1.492|2019|    1|         1|1.493264150943397|99.91534311309903|         1|\n",
      "|         SP95|2019-01-01| 1000008| 1000|  R|       46.199|              5.241|2019-01-01 10:30:00|           2|1.375|2019|    1|         1|1.493264150943397| 92.0801587000745|         1|\n",
      "+-------------+----------+--------+-----+---+-------------+-------------------+-------------------+------------+-----+----+-----+----------+-----------------+-----------------+----------+\n",
      "only showing top 2 rows\n",
      "\n"
     ]
    },
    {
     "name": "stderr",
     "output_type": "stream",
     "text": [
      "                                                                                \r"
     ]
    }
   ],
   "source": [
    "gas_ddf.show(2)"
   ]
  },
  {
   "cell_type": "code",
   "execution_count": 29,
   "metadata": {},
   "outputs": [
    {
     "name": "stderr",
     "output_type": "stream",
     "text": [
      "/tmp/ipykernel_782208/703865181.py:8: UserWarning: The palette list has more values (10) than needed (4), which may not be intended.\n",
      "  sns.relplot(\n"
     ]
    },
    {
     "data": {
      "text/plain": [
       "<Figure size 1200x1200 with 0 Axes>"
      ]
     },
     "metadata": {},
     "output_type": "display_data"
    },
    {
     "data": {
      "image/png": "[encoded data removed]",
      "text/plain": [
       "<Figure size 638.597x500 with 1 Axes>"
      ]
     },
     "metadata": {},
     "output_type": "display_data"
    }
   ],
   "source": [
    "plt.figure(figsize=(12,12))\n",
    "sns.set_theme(style=\"ticks\")\n",
    "\n",
    "# Define the palette as a list to specify exact values\n",
    "palette = sns.color_palette(\"tab10\")\n",
    "gas_ddf_pandas['week_index'] = gas_ddf_pandas['week_index'].astype(int)\n",
    "# Plot the lines on two facets\n",
    "sns.relplot(\n",
    "    data=gas_ddf_pandas,\n",
    "    x='week_index', y='price_per_week_index',\n",
    "hue=\"nom_carburant\",\n",
    "kind=\"line\",\n",
    "palette=palette,\n",
    "\n",
    "facet_kws=dict(sharex=False));"
   ]
  },
  {
   "cell_type": "markdown",
   "metadata": {},
   "source": [
    "3.b)  Represent a map for each gas type of France geo heat maps of price\n",
    "indexes, for example at department level"
   ]
  },
  {
   "cell_type": "code",
   "execution_count": 30,
   "metadata": {},
   "outputs": [
    {
     "name": "stderr",
     "output_type": "stream",
     "text": [
      "24/01/21 19:36:46 WARN RowBasedKeyValueBatch: Calling spill() on RowBasedKeyValueBatch. Will not spill but return 0.\n",
      "[Stage 81:==============================================>         (10 + 2) / 12]\r"
     ]
    },
    {
     "name": "stdout",
     "output_type": "stream",
     "text": [
      "+-------------+----------+--------+-----+---+---------------+-------------------+-------------------+------------+-----+----+-----+----------+------------------+------------------+----------+\n",
      "|nom_carburant|      date|  id_pdv|   cp|pop|       latitude|          longitude|           datetime|id_carburant| prix|year|month|weekofyear|     avg_day_price|       price_index|week_index|\n",
      "+-------------+----------+--------+-----+---+---------------+-------------------+-------------------+------------+-----+----+-----+----------+------------------+------------------+----------+\n",
      "|         SP95|2019-01-01|86700004|86700|  R|  46.3356584205|0.18620323995399998|2019-01-01 09:19:44|           2|1.492|2019|    1|         1| 1.493264150943397| 99.91534311309903|         1|\n",
      "|         SP95|2019-01-01| 1000008| 1000|  R|         46.199|              5.241|2019-01-01 10:30:00|           2|1.375|2019|    1|         1| 1.493264150943397|  92.0801587000745|         1|\n",
      "|         SP95|2019-01-01|57450001|57450|  R|         49.118|              6.876|2019-01-01 07:00:00|           2|1.498|2019|    1|         1| 1.493264150943397|100.31714744197207|         1|\n",
      "|         SP95|2019-01-01|27201001|27200|  R|         49.095|              1.466|2019-01-01 00:01:00|           2|1.357|2019|    1|         1| 1.493264150943397| 90.87474571345534|         1|\n",
      "|          E10|2019-01-01|88100008|88100|  R|         48.293|              6.942|2019-01-01 06:00:00|           5|1.448|2019|    1|         1|1.4108494368701878|102.63320536968328|         1|\n",
      "|         SP95|2019-01-01| 6240004| 6240|  R|43.744768107496| 7.4266167809815995|2019-01-01 13:05:36|           2|  1.5|2019|    1|         1| 1.493264150943397|100.45108221826308|         1|\n",
      "|         SP95|2019-01-01|85340002|85340|  R|       46.51765|           -1.77581|2019-01-01 09:06:49|           2|1.477|2019|    1|         1| 1.493264150943397| 98.91083229091639|         1|\n",
      "|         SP95|2019-01-01| 6500008| 6500|  R|  43.7840696572|      7.52078111179|2019-01-01 06:00:00|           2|1.509|2019|    1|         1| 1.493264150943397|101.05378871157266|         1|\n",
      "|         SP95|2019-01-01|88200016|88200|  R|         48.079|              6.595|2019-01-01 06:00:00|           2|1.578|2019|    1|         1| 1.493264150943397|105.67453849361277|         1|\n",
      "|         SP95|2019-01-01|11480001|11480|  A|  42.9499545422| 2.9720213003100002|2019-01-01 11:29:51|           2|1.544|2019|    1|         1| 1.493264150943397|103.39764729666547|         1|\n",
      "|         SP95|2019-01-01|59610002|59610|  R|         50.024|              4.028|2019-01-01 09:04:00|           2|  1.4|2019|    1|         1| 1.493264150943397| 93.75434340371221|         1|\n",
      "|         SP95|2019-01-01|13200013|13200|  R|         43.682|              4.612|2019-01-01 23:59:00|           2|1.455|2019|    1|         1| 1.493264150943397|  97.4375497517152|         1|\n",
      "|         SP95|2019-01-01|89100011|89100|  R|         48.205|              3.289|2019-01-01 20:40:35|           2| 1.54|2019|    1|         1| 1.493264150943397|103.12977774408346|         1|\n",
      "|         SP95|2019-01-01|13220003|13220|  R|         43.394|              5.135|2019-01-01 00:53:00|           2|1.409|2019|    1|         1| 1.493264150943397|  94.3570498970218|         1|\n",
      "|         SP95|2019-01-01|63790001|63790|  R|         45.576|              2.932|2019-01-01 17:01:29|           2| 1.53|2019|    1|         1| 1.493264150943397|102.46010386262836|         1|\n",
      "|         SP95|2019-01-01|13370005|13370|  R|     43.7271262|         5.15975149|2019-01-01 21:31:56|           2|1.499|2019|    1|         1| 1.493264150943397| 100.3841148301176|         1|\n",
      "|         SP95|2019-01-01|92500004|92500|  R|   48.876702222|      2.17581214413|2019-01-01 20:13:24|           2| 1.57|2019|    1|         1| 1.493264150943397| 105.1387993884487|         1|\n",
      "|         SP95|2019-01-01|13520001|13520|  R|         43.723|              4.797|2019-01-01 13:39:40|           2| 1.53|2019|    1|         1| 1.493264150943397|102.46010386262836|         1|\n",
      "|         SP95|2019-01-01|67570001|67570|  R|         48.461|              7.211|2019-01-01 20:00:00|           2|1.488|2019|    1|         1| 1.493264150943397| 99.64747356051699|         1|\n",
      "|         SP95|2019-01-01|13580003|13580|  R|         43.551|              5.202|2019-01-01 21:52:42|           2|1.499|2019|    1|         1| 1.493264150943397| 100.3841148301176|         1|\n",
      "+-------------+----------+--------+-----+---+---------------+-------------------+-------------------+------------+-----+----+-----+----------+------------------+------------------+----------+\n",
      "only showing top 20 rows\n",
      "\n"
     ]
    },
    {
     "name": "stderr",
     "output_type": "stream",
     "text": [
      "                                                                                \r"
     ]
    }
   ],
   "source": [
    "gas_ddf.show()"
   ]
  },
  {
   "cell_type": "markdown",
   "metadata": {},
   "source": [
    "4. Modeling – Forecast next day price"
   ]
  },
  {
   "cell_type": "markdown",
   "metadata": {},
   "source": [
    "* compute day index\n",
    "* Create w= 5 lag price features (e.g use upto 5 last days prices to predict next day)\n",
    "* Select features (dayindex,lag prices,....) \n",
    "* Split into train and test splits\n",
    "* train Linear regression and Random Forest regression in a pipepline\n",
    "* Plot forecast vs actual"
   ]
  },
  {
   "cell_type": "markdown",
   "metadata": {},
   "source": [
    "4-a) Compute day index"
   ]
  },
  {
   "cell_type": "code",
   "execution_count": 31,
   "metadata": {},
   "outputs": [],
   "source": [
    "def compute_day_index(dayofyear: int, year: int):\n",
    "    \"\"\"\n",
    "    Computes the day index for a given day of year and year.\n",
    "\n",
    "    Args:\n",
    "    - dayofyear (int): The day of the year.\n",
    "    - year (int): The year.\n",
    "\n",
    "    Returns:\n",
    "    - int: The day index.\n",
    "\n",
    "    e.g\n",
    "    >>> compute_day_index(1, 2018)\n",
    "    It returns  1 + 3 * 365 (in this ex 2015 is the starting year)\n",
    "    365 because 2015 is not a leap year\n",
    "    \"\"\"\n",
    "    # Get the week index multiplier for the given year\n",
    "    week_index_multiplier =  get_week_index_weights()\n",
    "\n",
    "    # Compute the day index\n",
    "\n",
    "    #check if the year is a leap year and do the calculation accordingly\n",
    "    if calendar.isleap(year):\n",
    "        day_index  = dayofyear + week_index_multiplier[year] * 366\n",
    "    else:\n",
    "        day_index  = dayofyear + week_index_multiplier[year] * 365\n",
    "\n",
    "\n",
    "\n",
    "    return day_index"
   ]
  },
  {
   "cell_type": "code",
   "execution_count": 32,
   "metadata": {},
   "outputs": [],
   "source": [
    "gas_ddf = gas_ddf.withColumn(\"dayofweek\",dayofyear('date'))\n",
    "gas_ddf = gas_ddf.withColumn(\"prix\",F.col(\"prix\").cast(FloatType()))\n",
    "gas_ddf = gas_ddf.withColumn(\"day_index\",F.udf(compute_day_index)(\"dayofweek\",\"year\").cast(IntegerType()))"
   ]
  },
  {
   "cell_type": "markdown",
   "metadata": {},
   "source": [
    "4-b) Create w= 5 lag price features (e.g use upto 5 last days prices to predict next day)\n"
   ]
  },
  {
   "cell_type": "code",
   "execution_count": null,
   "metadata": {},
   "outputs": [],
   "source": [
    "# Create lagged columns for the price\n",
    "window_spec = Window().partitionBy([\"id_carburant\",\"id_pdv\",\"day_index\"]).orderBy(\"day_index\")\n",
    "window_size = 5\n",
    "\n",
    "# Create lag features for the last 5 days\n",
    "lags = []\n",
    "for i in range(1, window_size + 1):  \n",
    "    gas_ddf = gas_ddf.withColumn(f\"lag_price_{i}\",F.lag(\"prix\", i).over(window_spec).cast(FloatType()))\n",
    "    #gas_ddf = gas_ddf.withColumn(f\"lag_price_{i}\",F.col(f\"lag_price_{i}\").cast(IntegerType()))\n",
    "\n",
    "#fill null values created by lagg with 0\n",
    "gas_ddf = gas_ddf.dropna()\n",
    "gas_ddf = gas_ddf.sort(\"date\",ascending = True)\n",
    "gas_ddf.show()"
   ]
  },
  {
   "cell_type": "markdown",
   "metadata": {},
   "source": [
    "4-c) Select features (dayindex,lag prices,....) "
   ]
  },
  {
   "cell_type": "code",
   "execution_count": null,
   "metadata": {},
   "outputs": [],
   "source": [
    "\n",
    "#create a vector assembly\n",
    "#define the feature we're interested in \n",
    "\n",
    "\n",
    "features_cols = [\"lag_price_1\",\"lag_price_2\",\"lag_price_3\",\"lag_price_4\",\"lag_price_5\",\n",
    "                 \"week_index\",\"day_index\",\"id_pdv\"]\n",
    "op_features = VectorAssembler(inputCols=features_cols,outputCol=\"features\")"
   ]
  },
  {
   "cell_type": "markdown",
   "metadata": {},
   "source": [
    "4-d) Split the data into training and testing sets"
   ]
  },
  {
   "cell_type": "code",
   "execution_count": null,
   "metadata": {},
   "outputs": [],
   "source": [
    "training_split_ratio = 0.8\n",
    "split_point = int(0.8 * gas_ddf.count())\n",
    "\n",
    "# Split the data into training and testing sets\n",
    "train_data = gas_ddf.limit(split_point)\n",
    "test_data = gas_ddf.subtract(train_data)\n"
   ]
  },
  {
   "cell_type": "markdown",
   "metadata": {},
   "source": [
    "4-e) Train Linear regression and Random Forest regression in a pipepline"
   ]
  },
  {
   "cell_type": "code",
   "execution_count": null,
   "metadata": {},
   "outputs": [],
   "source": [
    "lr = LinearRegression(labelCol=\"prix\")\n",
    "\n",
    "rf = RandomForestRegressor(labelCol=\"prix\")\n",
    "\n",
    "pipeline_lr = Pipeline(stages=[op_features,lr])\n",
    "\n",
    "pipeline_rf = Pipeline(stages=[op_features,rf])\n",
    "\n",
    "fitted_lr = pipeline_lr.fit(train_data)\n",
    "fitted_rf = pipeline_rf.fit(train_data)"
   ]
  },
  {
   "cell_type": "code",
   "execution_count": null,
   "metadata": {},
   "outputs": [],
   "source": [
    "#evarluate LR Model according to RMSE\n",
    "#create evaluator object according to RMSE and fix the labelcol variable\n",
    "\n",
    "#metric of interest\n",
    "metrics = [\"rmse\",\"r2\",\"mae\"]\n",
    "results = {\"lr\":[],\"rf\":[]} #will contain the result metric for each model\n",
    "\n",
    "\n",
    "#for evaluate the lr and rf models for each metric\n",
    "for metric in metrics:\n",
    "    evaluator = RegressionEvaluator(labelCol=\"prix\",metricName=metric)\n",
    "\n",
    "    #evaluate the LR model\n",
    "    lr_metric = evaluator.evaluate(fitted_lr.transform(test_data))\n",
    "    results[\"lr\"].append(lr_metric)\n",
    "    \n",
    "    #same for RF\n",
    "    rf_metric = evaluator.evaluate(fitted_rf.transform(test_data))\n",
    "    results[\"rf\"].append(rf_metric)\n",
    "\n"
   ]
  },
  {
   "cell_type": "markdown",
   "metadata": {},
   "source": [
    "Print the results"
   ]
  },
  {
   "cell_type": "code",
   "execution_count": null,
   "metadata": {},
   "outputs": [],
   "source": [
    "\n",
    "model_results_df = pd.DataFrame(results,index=['RMSE',\"R2\",\"MAE\"])\n",
    "print(model_results_df)"
   ]
  },
  {
   "cell_type": "markdown",
   "metadata": {},
   "source": [
    "4-f) Plot Forecast vs real\n"
   ]
  },
  {
   "cell_type": "code",
   "execution_count": null,
   "metadata": {},
   "outputs": [],
   "source": [
    "forecast_date = \"2023-12-31\"\n",
    "id_pdv = 74250001\n",
    "id_carburant = 1\n"
   ]
  },
  {
   "cell_type": "code",
   "execution_count": null,
   "metadata": {},
   "outputs": [],
   "source": [
    "real_vs_forecast_ddf = fitted_lr.transform(test_data).select(['prix',\"prediction\"]).toPandas()\n"
   ]
  },
  {
   "cell_type": "code",
   "execution_count": null,
   "metadata": {},
   "outputs": [],
   "source": [
    "import plotly.express as px\n",
    "\n",
    "fig = px.line(real_vs_forecast_ddf[-48:], x = range(48), y=real_vs_forecast_ddf.columns,\n",
    "              title='True Price vs forecasts ')\n",
    "\n",
    "fig.show()"
   ]
  }
 ],
 "metadata": {
  "kernelspec": {
   "display_name": "gas_env",
   "language": "python",
   "name": "python3"
  },
  "language_info": {
   "codemirror_mode": {
    "name": "ipython",
    "version": 3
   },
   "file_extension": ".py",
   "mimetype": "text/x-python",
   "name": "python",
   "nbconvert_exporter": "python",
   "pygments_lexer": "ipython3",
   "version": "3.8.10"
  }
 },
 "nbformat": 4,
 "nbformat_minor": 2
}
